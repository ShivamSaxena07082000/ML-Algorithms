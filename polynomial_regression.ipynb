{
 "cells": [
  {
   "cell_type": "code",
   "execution_count": 1,
   "metadata": {},
   "outputs": [],
   "source": [
    "import pandas as pd\n",
    "import matplotlib.pyplot as plt\n",
    "import numpy as np"
   ]
  },
  {
   "cell_type": "code",
   "execution_count": 5,
   "metadata": {},
   "outputs": [],
   "source": [
    "y=np.arange(1,10,0.5)\n",
    "y2= y**2"
   ]
  },
  {
   "cell_type": "code",
   "execution_count": 6,
   "metadata": {},
   "outputs": [
    {
     "data": {
      "text/plain": [
       "[<matplotlib.lines.Line2D at 0x21931860790>]"
      ]
     },
     "execution_count": 6,
     "metadata": {},
     "output_type": "execute_result"
    },
    {
     "data": {
      "image/png": "[encoded data removed]",
      "text/plain": [
       "<Figure size 432x288 with 1 Axes>"
      ]
     },
     "metadata": {
      "needs_background": "light"
     },
     "output_type": "display_data"
    }
   ],
   "source": [
    "plt.plot(y)\n",
    "plt.plot(y2)"
   ]
  },
  {
   "cell_type": "code",
   "execution_count": 7,
   "metadata": {},
   "outputs": [],
   "source": [
    "df=pd.read_csv('https://raw.githubusercontent.com/digipodium/Datasets/main/Position_Salaries.csv')"
   ]
  },
  {
   "cell_type": "code",
   "execution_count": 8,
   "metadata": {},
   "outputs": [
    {
     "data": {
      "text/html": [
       "<div>\n",
       "<style scoped>\n",
       "    .dataframe tbody tr th:only-of-type {\n",
       "        vertical-align: middle;\n",
       "    }\n",
       "\n",
       "    .dataframe tbody tr th {\n",
       "        vertical-align: top;\n",
       "    }\n",
       "\n",
       "    .dataframe thead th {\n",
       "        text-align: right;\n",
       "    }\n",
       "</style>\n",
       "<table border=\"1\" class=\"dataframe\">\n",
       "  <thead>\n",
       "    <tr style=\"text-align: right;\">\n",
       "      <th></th>\n",
       "      <th>Position</th>\n",
       "      <th>Level</th>\n",
       "      <th>Salary</th>\n",
       "    </tr>\n",
       "  </thead>\n",
       "  <tbody>\n",
       "    <tr>\n",
       "      <th>0</th>\n",
       "      <td>Business Analyst</td>\n",
       "      <td>1</td>\n",
       "      <td>45000</td>\n",
       "    </tr>\n",
       "    <tr>\n",
       "      <th>1</th>\n",
       "      <td>Junior Consultant</td>\n",
       "      <td>2</td>\n",
       "      <td>50000</td>\n",
       "    </tr>\n",
       "    <tr>\n",
       "      <th>2</th>\n",
       "      <td>Senior Consultant</td>\n",
       "      <td>3</td>\n",
       "      <td>60000</td>\n",
       "    </tr>\n",
       "    <tr>\n",
       "      <th>3</th>\n",
       "      <td>Manager</td>\n",
       "      <td>4</td>\n",
       "      <td>80000</td>\n",
       "    </tr>\n",
       "    <tr>\n",
       "      <th>4</th>\n",
       "      <td>Country Manager</td>\n",
       "      <td>5</td>\n",
       "      <td>110000</td>\n",
       "    </tr>\n",
       "    <tr>\n",
       "      <th>5</th>\n",
       "      <td>Region Manager</td>\n",
       "      <td>6</td>\n",
       "      <td>150000</td>\n",
       "    </tr>\n",
       "    <tr>\n",
       "      <th>6</th>\n",
       "      <td>Partner</td>\n",
       "      <td>7</td>\n",
       "      <td>200000</td>\n",
       "    </tr>\n",
       "    <tr>\n",
       "      <th>7</th>\n",
       "      <td>Senior Partner</td>\n",
       "      <td>8</td>\n",
       "      <td>300000</td>\n",
       "    </tr>\n",
       "    <tr>\n",
       "      <th>8</th>\n",
       "      <td>C-level</td>\n",
       "      <td>9</td>\n",
       "      <td>500000</td>\n",
       "    </tr>\n",
       "    <tr>\n",
       "      <th>9</th>\n",
       "      <td>CEO</td>\n",
       "      <td>10</td>\n",
       "      <td>1000000</td>\n",
       "    </tr>\n",
       "  </tbody>\n",
       "</table>\n",
       "</div>"
      ],
      "text/plain": [
       "            Position  Level   Salary\n",
       "0   Business Analyst      1    45000\n",
       "1  Junior Consultant      2    50000\n",
       "2  Senior Consultant      3    60000\n",
       "3            Manager      4    80000\n",
       "4    Country Manager      5   110000\n",
       "5     Region Manager      6   150000\n",
       "6            Partner      7   200000\n",
       "7     Senior Partner      8   300000\n",
       "8            C-level      9   500000\n",
       "9                CEO     10  1000000"
      ]
     },
     "execution_count": 8,
     "metadata": {},
     "output_type": "execute_result"
    }
   ],
   "source": [
    "df"
   ]
  },
  {
   "cell_type": "code",
   "execution_count": 11,
   "metadata": {},
   "outputs": [
    {
     "data": {
      "text/plain": [
       "<AxesSubplot:xlabel='Level', ylabel='Salary'>"
      ]
     },
     "execution_count": 11,
     "metadata": {},
     "output_type": "execute_result"
    },
    {
     "data": {
      "image/png": "[encoded data removed]",
      "text/plain": [
       "<Figure size 432x288 with 1 Axes>"
      ]
     },
     "metadata": {
      "needs_background": "light"
     },
     "output_type": "display_data"
    }
   ],
   "source": [
    "df.plot(x='Level',y='Salary',kind=\"scatter\")"
   ]
  },
  {
   "cell_type": "code",
   "execution_count": 12,
   "metadata": {},
   "outputs": [],
   "source": [
    "from sklearn.preprocessing import PolynomialFeatures\n",
    "from sklearn.linear_model import LinearRegression"
   ]
  },
  {
   "cell_type": "code",
   "execution_count": 13,
   "metadata": {},
   "outputs": [],
   "source": [
    "x=df[['Level']]\n",
    "y=df[['Salary']]"
   ]
  },
  {
   "cell_type": "code",
   "execution_count": 14,
   "metadata": {},
   "outputs": [
    {
     "data": {
      "text/plain": [
       "LinearRegression()"
      ]
     },
     "execution_count": 14,
     "metadata": {},
     "output_type": "execute_result"
    }
   ],
   "source": [
    "model=LinearRegression()\n",
    "model.fit(x,y)"
   ]
  },
  {
   "cell_type": "code",
   "execution_count": 17,
   "metadata": {},
   "outputs": [
    {
     "data": {
      "text/plain": [
       "66.90412331929895"
      ]
     },
     "execution_count": 17,
     "metadata": {},
     "output_type": "execute_result"
    }
   ],
   "source": [
    "model.score(x,y)*100"
   ]
  },
  {
   "cell_type": "code",
   "execution_count": 18,
   "metadata": {},
   "outputs": [],
   "source": [
    "df['Pred']=model.predict(x)"
   ]
  },
  {
   "cell_type": "code",
   "execution_count": 19,
   "metadata": {},
   "outputs": [
    {
     "data": {
      "text/html": [
       "<div>\n",
       "<style scoped>\n",
       "    .dataframe tbody tr th:only-of-type {\n",
       "        vertical-align: middle;\n",
       "    }\n",
       "\n",
       "    .dataframe tbody tr th {\n",
       "        vertical-align: top;\n",
       "    }\n",
       "\n",
       "    .dataframe thead th {\n",
       "        text-align: right;\n",
       "    }\n",
       "</style>\n",
       "<table border=\"1\" class=\"dataframe\">\n",
       "  <thead>\n",
       "    <tr style=\"text-align: right;\">\n",
       "      <th></th>\n",
       "      <th>Position</th>\n",
       "      <th>Level</th>\n",
       "      <th>Salary</th>\n",
       "      <th>Pred</th>\n",
       "    </tr>\n",
       "  </thead>\n",
       "  <tbody>\n",
       "    <tr>\n",
       "      <th>0</th>\n",
       "      <td>Business Analyst</td>\n",
       "      <td>1</td>\n",
       "      <td>45000</td>\n",
       "      <td>-114454.545455</td>\n",
       "    </tr>\n",
       "    <tr>\n",
       "      <th>1</th>\n",
       "      <td>Junior Consultant</td>\n",
       "      <td>2</td>\n",
       "      <td>50000</td>\n",
       "      <td>-33575.757576</td>\n",
       "    </tr>\n",
       "    <tr>\n",
       "      <th>2</th>\n",
       "      <td>Senior Consultant</td>\n",
       "      <td>3</td>\n",
       "      <td>60000</td>\n",
       "      <td>47303.030303</td>\n",
       "    </tr>\n",
       "    <tr>\n",
       "      <th>3</th>\n",
       "      <td>Manager</td>\n",
       "      <td>4</td>\n",
       "      <td>80000</td>\n",
       "      <td>128181.818182</td>\n",
       "    </tr>\n",
       "    <tr>\n",
       "      <th>4</th>\n",
       "      <td>Country Manager</td>\n",
       "      <td>5</td>\n",
       "      <td>110000</td>\n",
       "      <td>209060.606061</td>\n",
       "    </tr>\n",
       "    <tr>\n",
       "      <th>5</th>\n",
       "      <td>Region Manager</td>\n",
       "      <td>6</td>\n",
       "      <td>150000</td>\n",
       "      <td>289939.393939</td>\n",
       "    </tr>\n",
       "    <tr>\n",
       "      <th>6</th>\n",
       "      <td>Partner</td>\n",
       "      <td>7</td>\n",
       "      <td>200000</td>\n",
       "      <td>370818.181818</td>\n",
       "    </tr>\n",
       "    <tr>\n",
       "      <th>7</th>\n",
       "      <td>Senior Partner</td>\n",
       "      <td>8</td>\n",
       "      <td>300000</td>\n",
       "      <td>451696.969697</td>\n",
       "    </tr>\n",
       "    <tr>\n",
       "      <th>8</th>\n",
       "      <td>C-level</td>\n",
       "      <td>9</td>\n",
       "      <td>500000</td>\n",
       "      <td>532575.757576</td>\n",
       "    </tr>\n",
       "    <tr>\n",
       "      <th>9</th>\n",
       "      <td>CEO</td>\n",
       "      <td>10</td>\n",
       "      <td>1000000</td>\n",
       "      <td>613454.545455</td>\n",
       "    </tr>\n",
       "  </tbody>\n",
       "</table>\n",
       "</div>"
      ],
      "text/plain": [
       "            Position  Level   Salary           Pred\n",
       "0   Business Analyst      1    45000 -114454.545455\n",
       "1  Junior Consultant      2    50000  -33575.757576\n",
       "2  Senior Consultant      3    60000   47303.030303\n",
       "3            Manager      4    80000  128181.818182\n",
       "4    Country Manager      5   110000  209060.606061\n",
       "5     Region Manager      6   150000  289939.393939\n",
       "6            Partner      7   200000  370818.181818\n",
       "7     Senior Partner      8   300000  451696.969697\n",
       "8            C-level      9   500000  532575.757576\n",
       "9                CEO     10  1000000  613454.545455"
      ]
     },
     "execution_count": 19,
     "metadata": {},
     "output_type": "execute_result"
    }
   ],
   "source": [
    "df"
   ]
  },
  {
   "cell_type": "code",
   "execution_count": 26,
   "metadata": {},
   "outputs": [
    {
     "data": {
      "text/plain": [
       "<AxesSubplot:xlabel='Level', ylabel='Salary'>"
      ]
     },
     "execution_count": 26,
     "metadata": {},
     "output_type": "execute_result"
    },
    {
     "data": {
      "image/png": "[encoded data removed]",
      "text/plain": [
       "<Figure size 432x288 with 1 Axes>"
      ]
     },
     "metadata": {
      "needs_background": "light"
     },
     "output_type": "display_data"
    }
   ],
   "source": [
    "ax=df.plot(x='Level',y='Salary',kind='scatter')\n",
    "df.plot(x='Level',y='Pred',ax=ax,color='green')\n"
   ]
  },
  {
   "cell_type": "code",
   "execution_count": 43,
   "metadata": {},
   "outputs": [],
   "source": []
  },
  {
   "cell_type": "code",
   "execution_count": 72,
   "metadata": {},
   "outputs": [],
   "source": [
    "from sklearn.metrics import mean_absolute_error\n",
    "def check_polynomial_regression(x,y,degree):\n",
    "    pf=PolynomialFeatures(degree)\n",
    "    px=pf.fit_transform(x)\n",
    "    model1=LinearRegression()\n",
    "    model1.fit(px,y)\n",
    "    df[f'Pred{degree}']=model1.predict(px)\n",
    "    ax=df.plot(x='Level',y='Salary',kind='scatter')\n",
    "    df.plot(x='Level',y=f'Pred{degree}',ax=ax,color='green')\n",
    "    mae=mean_absolute_error(y,df[f'Pred{degree}'])\n",
    "    print('degree',degree,'score',model1.score(pf.transform(x),y)*100,',mae=>',mae)\n",
    "    plt.show()\n",
    "\n"
   ]
  },
  {
   "cell_type": "code",
   "execution_count": 73,
   "metadata": {},
   "outputs": [
    {
     "name": "stdout",
     "output_type": "stream",
     "text": [
      "degree 1 score 66.90412331929895 ,mae=> 128454.54545454546\n"
     ]
    },
    {
     "data": {
      "image/png": "[encoded data removed]",
      "text/plain": [
       "<Figure size 432x288 with 1 Axes>"
      ]
     },
     "metadata": {
      "needs_background": "light"
     },
     "output_type": "display_data"
    },
    {
     "name": "stdout",
     "output_type": "stream",
     "text": [
      "degree 2 score 91.62082221443943 ,mae=> 70218.1818181819\n"
     ]
    },
    {
     "data": {
      "image/png": "[encoded data removed]",
      "text/plain": [
       "<Figure size 432x288 with 1 Axes>"
      ]
     },
     "metadata": {
      "needs_background": "light"
     },
     "output_type": "display_data"
    },
    {
     "name": "stdout",
     "output_type": "stream",
     "text": [
      "degree 3 score 98.12097727913368 ,mae=> 34790.20979020895\n"
     ]
    },
    {
     "data": {
      "image/png": "[encoded data removed]",
      "text/plain": [
       "<Figure size 432x288 with 1 Axes>"
      ]
     },
     "metadata": {
      "needs_background": "light"
     },
     "output_type": "display_data"
    },
    {
     "name": "stdout",
     "output_type": "stream",
     "text": [
      "degree 4 score 99.73922891706614 ,mae=> 12681.818181828949\n"
     ]
    },
    {
     "data": {
      "image/png": "[encoded data removed]",
      "text/plain": [
       "<Figure size 432x288 with 1 Axes>"
      ]
     },
     "metadata": {
      "needs_background": "light"
     },
     "output_type": "display_data"
    },
    {
     "name": "stdout",
     "output_type": "stream",
     "text": [
      "degree 5 score 99.97969027099754 ,mae=> 3360.839160905867\n"
     ]
    },
    {
     "data": {
      "image/png": "[encoded data removed]",
      "text/plain": [
       "<Figure size 432x288 with 1 Axes>"
      ]
     },
     "metadata": {
      "needs_background": "light"
     },
     "output_type": "display_data"
    },
    {
     "name": "stdout",
     "output_type": "stream",
     "text": [
      "degree 6 score 99.99494749253776 ,mae=> 1476.456876822887\n"
     ]
    },
    {
     "data": {
      "image/png": "[encoded data removed]",
      "text/plain": [
       "<Figure size 432x288 with 1 Axes>"
      ]
     },
     "metadata": {
      "needs_background": "light"
     },
     "output_type": "display_data"
    },
    {
     "name": "stdout",
     "output_type": "stream",
     "text": [
      "degree 7 score 99.9977014372917 ,mae=> 1025.3805187965568\n"
     ]
    },
    {
     "data": {
      "image/png": "[encoded data removed]",
      "text/plain": [
       "<Figure size 432x288 with 1 Axes>"
      ]
     },
     "metadata": {
      "needs_background": "light"
     },
     "output_type": "display_data"
    },
    {
     "name": "stdout",
     "output_type": "stream",
     "text": [
      "degree 8 score 99.99934972438326 ,mae=> 531.7981693140464\n"
     ]
    },
    {
     "data": {
      "image/png": "[encoded data removed]",
      "text/plain": [
       "<Figure size 432x288 with 1 Axes>"
      ]
     },
     "metadata": {
      "needs_background": "light"
     },
     "output_type": "display_data"
    },
    {
     "name": "stdout",
     "output_type": "stream",
     "text": [
      "degree 9 score 99.99999999999848 ,mae=> 0.02530721346847713\n"
     ]
    },
    {
     "data": {
      "image/png": "[encoded data removed]",
      "text/plain": [
       "<Figure size 432x288 with 1 Axes>"
      ]
     },
     "metadata": {
      "needs_background": "light"
     },
     "output_type": "display_data"
    },
    {
     "name": "stdout",
     "output_type": "stream",
     "text": [
      "degree 10 score 100.0 ,mae=> 0.0006908513139933347\n"
     ]
    },
    {
     "data": {
      "image/png": "[encoded data removed]",
      "text/plain": [
       "<Figure size 432x288 with 1 Axes>"
      ]
     },
     "metadata": {
      "needs_background": "light"
     },
     "output_type": "display_data"
    }
   ],
   "source": [
    "for i in range(1,11):\n",
    "    check_polynomial_regression(x,y,i)"
   ]
  },
  {
   "cell_type": "code",
   "execution_count": 74,
   "metadata": {},
   "outputs": [
    {
     "data": {
      "text/plain": [
       "LinearRegression()"
      ]
     },
     "execution_count": 74,
     "metadata": {},
     "output_type": "execute_result"
    }
   ],
   "source": [
    "p=PolynomialFeatures(degree=8)\n",
    "m=LinearRegression()\n",
    "px=p.fit_transform(x)\n",
    "m.fit(px,y)"
   ]
  },
  {
   "cell_type": "code",
   "execution_count": 76,
   "metadata": {},
   "outputs": [
    {
     "data": {
      "text/plain": [
       "99.99934972438326"
      ]
     },
     "execution_count": 76,
     "metadata": {},
     "output_type": "execute_result"
    }
   ],
   "source": [
    "m.score(px,y)*100"
   ]
  },
  {
   "cell_type": "code",
   "execution_count": 77,
   "metadata": {},
   "outputs": [
    {
     "name": "stderr",
     "output_type": "stream",
     "text": [
      "C:\\Users\\Dell\\AppData\\Local\\Programs\\Python\\Python310\\lib\\site-packages\\sklearn\\base.py:450: UserWarning: X does not have valid feature names, but PolynomialFeatures was fitted with feature names\n",
      "  warnings.warn(\n"
     ]
    },
    {
     "data": {
      "text/plain": [
       "array([[299626.07985711]])"
      ]
     },
     "execution_count": 77,
     "metadata": {},
     "output_type": "execute_result"
    }
   ],
   "source": [
    "m.predict(p.transform([[8]]))"
   ]
  },
  {
   "cell_type": "code",
   "execution_count": 78,
   "metadata": {},
   "outputs": [
    {
     "data": {
      "text/html": [
       "<div>\n",
       "<style scoped>\n",
       "    .dataframe tbody tr th:only-of-type {\n",
       "        vertical-align: middle;\n",
       "    }\n",
       "\n",
       "    .dataframe tbody tr th {\n",
       "        vertical-align: top;\n",
       "    }\n",
       "\n",
       "    .dataframe thead th {\n",
       "        text-align: right;\n",
       "    }\n",
       "</style>\n",
       "<table border=\"1\" class=\"dataframe\">\n",
       "  <thead>\n",
       "    <tr style=\"text-align: right;\">\n",
       "      <th></th>\n",
       "      <th>Position</th>\n",
       "      <th>Level</th>\n",
       "      <th>Salary</th>\n",
       "      <th>Pred</th>\n",
       "      <th>Pred2</th>\n",
       "      <th>Pred3</th>\n",
       "      <th>Pred4</th>\n",
       "      <th>Pred5</th>\n",
       "      <th>Pred6</th>\n",
       "      <th>Pred7</th>\n",
       "      <th>Pred8</th>\n",
       "      <th>Pred9</th>\n",
       "      <th>Pred10</th>\n",
       "      <th>Pred1</th>\n",
       "    </tr>\n",
       "  </thead>\n",
       "  <tbody>\n",
       "    <tr>\n",
       "      <th>0</th>\n",
       "      <td>Business Analyst</td>\n",
       "      <td>1</td>\n",
       "      <td>45000</td>\n",
       "      <td>118727.272727</td>\n",
       "      <td>118727.272727</td>\n",
       "      <td>14902.097902</td>\n",
       "      <td>53356.643357</td>\n",
       "      <td>43895.104896</td>\n",
       "      <td>45190.559442</td>\n",
       "      <td>44942.204701</td>\n",
       "      <td>45010.387114</td>\n",
       "      <td>4.499996e+04</td>\n",
       "      <td>44999.999989</td>\n",
       "      <td>-114454.545455</td>\n",
       "    </tr>\n",
       "    <tr>\n",
       "      <th>1</th>\n",
       "      <td>Junior Consultant</td>\n",
       "      <td>2</td>\n",
       "      <td>50000</td>\n",
       "      <td>44151.515152</td>\n",
       "      <td>44151.515152</td>\n",
       "      <td>78759.906760</td>\n",
       "      <td>31759.906760</td>\n",
       "      <td>53836.829837</td>\n",
       "      <td>49086.829839</td>\n",
       "      <td>50383.792686</td>\n",
       "      <td>49906.523168</td>\n",
       "      <td>5.000001e+04</td>\n",
       "      <td>50000.000294</td>\n",
       "      <td>-33575.757576</td>\n",
       "    </tr>\n",
       "    <tr>\n",
       "      <th>2</th>\n",
       "      <td>Senior Consultant</td>\n",
       "      <td>3</td>\n",
       "      <td>60000</td>\n",
       "      <td>8439.393939</td>\n",
       "      <td>8439.393939</td>\n",
       "      <td>94960.372960</td>\n",
       "      <td>58642.191142</td>\n",
       "      <td>57065.268066</td>\n",
       "      <td>61383.449885</td>\n",
       "      <td>59010.283828</td>\n",
       "      <td>60373.922024</td>\n",
       "      <td>6.000002e+04</td>\n",
       "      <td>60000.000206</td>\n",
       "      <td>47303.030303</td>\n",
       "    </tr>\n",
       "    <tr>\n",
       "      <th>3</th>\n",
       "      <td>Manager</td>\n",
       "      <td>4</td>\n",
       "      <td>80000</td>\n",
       "      <td>11590.909091</td>\n",
       "      <td>11590.909091</td>\n",
       "      <td>88223.776224</td>\n",
       "      <td>94632.867133</td>\n",
       "      <td>77286.713287</td>\n",
       "      <td>79877.622378</td>\n",
       "      <td>81036.610495</td>\n",
       "      <td>79127.522737</td>\n",
       "      <td>8.000000e+04</td>\n",
       "      <td>80000.000227</td>\n",
       "      <td>128181.818182</td>\n",
       "    </tr>\n",
       "    <tr>\n",
       "      <th>4</th>\n",
       "      <td>Country Manager</td>\n",
       "      <td>5</td>\n",
       "      <td>110000</td>\n",
       "      <td>53606.060606</td>\n",
       "      <td>53606.060606</td>\n",
       "      <td>83270.396270</td>\n",
       "      <td>121724.941725</td>\n",
       "      <td>112263.403264</td>\n",
       "      <td>108808.857810</td>\n",
       "      <td>110354.175270</td>\n",
       "      <td>111308.721912</td>\n",
       "      <td>1.100000e+05</td>\n",
       "      <td>110000.000226</td>\n",
       "      <td>209060.606061</td>\n",
       "    </tr>\n",
       "    <tr>\n",
       "      <th>5</th>\n",
       "      <td>Region Manager</td>\n",
       "      <td>6</td>\n",
       "      <td>150000</td>\n",
       "      <td>134484.848485</td>\n",
       "      <td>134484.848485</td>\n",
       "      <td>104820.512821</td>\n",
       "      <td>143275.058275</td>\n",
       "      <td>152736.596737</td>\n",
       "      <td>149282.051284</td>\n",
       "      <td>147736.733825</td>\n",
       "      <td>148691.280067</td>\n",
       "      <td>1.500000e+05</td>\n",
       "      <td>150000.000340</td>\n",
       "      <td>289939.393939</td>\n",
       "    </tr>\n",
       "    <tr>\n",
       "      <th>6</th>\n",
       "      <td>Partner</td>\n",
       "      <td>7</td>\n",
       "      <td>200000</td>\n",
       "      <td>254227.272727</td>\n",
       "      <td>254227.272727</td>\n",
       "      <td>177594.405594</td>\n",
       "      <td>184003.496504</td>\n",
       "      <td>201349.650350</td>\n",
       "      <td>203940.559442</td>\n",
       "      <td>202781.571350</td>\n",
       "      <td>200872.482748</td>\n",
       "      <td>2.000000e+05</td>\n",
       "      <td>200000.000613</td>\n",
       "      <td>370818.181818</td>\n",
       "    </tr>\n",
       "    <tr>\n",
       "      <th>7</th>\n",
       "      <td>Senior Partner</td>\n",
       "      <td>8</td>\n",
       "      <td>300000</td>\n",
       "      <td>412833.333333</td>\n",
       "      <td>412833.333333</td>\n",
       "      <td>326312.354312</td>\n",
       "      <td>289994.172494</td>\n",
       "      <td>291571.095571</td>\n",
       "      <td>295889.277390</td>\n",
       "      <td>298262.443494</td>\n",
       "      <td>299626.079857</td>\n",
       "      <td>3.000000e+05</td>\n",
       "      <td>300000.001143</td>\n",
       "      <td>451696.969697</td>\n",
       "    </tr>\n",
       "    <tr>\n",
       "      <th>8</th>\n",
       "      <td>C-level</td>\n",
       "      <td>9</td>\n",
       "      <td>500000</td>\n",
       "      <td>610303.030303</td>\n",
       "      <td>610303.030303</td>\n",
       "      <td>575694.638695</td>\n",
       "      <td>528694.638695</td>\n",
       "      <td>506617.715617</td>\n",
       "      <td>501867.715615</td>\n",
       "      <td>500570.752793</td>\n",
       "      <td>500093.477050</td>\n",
       "      <td>4.999999e+05</td>\n",
       "      <td>500000.000401</td>\n",
       "      <td>532575.757576</td>\n",
       "    </tr>\n",
       "    <tr>\n",
       "      <th>9</th>\n",
       "      <td>CEO</td>\n",
       "      <td>10</td>\n",
       "      <td>1000000</td>\n",
       "      <td>846636.363636</td>\n",
       "      <td>846636.363636</td>\n",
       "      <td>950461.538462</td>\n",
       "      <td>988916.083916</td>\n",
       "      <td>998377.622376</td>\n",
       "      <td>999673.076915</td>\n",
       "      <td>999921.431558</td>\n",
       "      <td>999989.603324</td>\n",
       "      <td>1.000000e+06</td>\n",
       "      <td>999999.996552</td>\n",
       "      <td>613454.545455</td>\n",
       "    </tr>\n",
       "  </tbody>\n",
       "</table>\n",
       "</div>"
      ],
      "text/plain": [
       "            Position  Level   Salary           Pred          Pred2  \\\n",
       "0   Business Analyst      1    45000  118727.272727  118727.272727   \n",
       "1  Junior Consultant      2    50000   44151.515152   44151.515152   \n",
       "2  Senior Consultant      3    60000    8439.393939    8439.393939   \n",
       "3            Manager      4    80000   11590.909091   11590.909091   \n",
       "4    Country Manager      5   110000   53606.060606   53606.060606   \n",
       "5     Region Manager      6   150000  134484.848485  134484.848485   \n",
       "6            Partner      7   200000  254227.272727  254227.272727   \n",
       "7     Senior Partner      8   300000  412833.333333  412833.333333   \n",
       "8            C-level      9   500000  610303.030303  610303.030303   \n",
       "9                CEO     10  1000000  846636.363636  846636.363636   \n",
       "\n",
       "           Pred3          Pred4          Pred5          Pred6          Pred7  \\\n",
       "0   14902.097902   53356.643357   43895.104896   45190.559442   44942.204701   \n",
       "1   78759.906760   31759.906760   53836.829837   49086.829839   50383.792686   \n",
       "2   94960.372960   58642.191142   57065.268066   61383.449885   59010.283828   \n",
       "3   88223.776224   94632.867133   77286.713287   79877.622378   81036.610495   \n",
       "4   83270.396270  121724.941725  112263.403264  108808.857810  110354.175270   \n",
       "5  104820.512821  143275.058275  152736.596737  149282.051284  147736.733825   \n",
       "6  177594.405594  184003.496504  201349.650350  203940.559442  202781.571350   \n",
       "7  326312.354312  289994.172494  291571.095571  295889.277390  298262.443494   \n",
       "8  575694.638695  528694.638695  506617.715617  501867.715615  500570.752793   \n",
       "9  950461.538462  988916.083916  998377.622376  999673.076915  999921.431558   \n",
       "\n",
       "           Pred8         Pred9         Pred10          Pred1  \n",
       "0   45010.387114  4.499996e+04   44999.999989 -114454.545455  \n",
       "1   49906.523168  5.000001e+04   50000.000294  -33575.757576  \n",
       "2   60373.922024  6.000002e+04   60000.000206   47303.030303  \n",
       "3   79127.522737  8.000000e+04   80000.000227  128181.818182  \n",
       "4  111308.721912  1.100000e+05  110000.000226  209060.606061  \n",
       "5  148691.280067  1.500000e+05  150000.000340  289939.393939  \n",
       "6  200872.482748  2.000000e+05  200000.000613  370818.181818  \n",
       "7  299626.079857  3.000000e+05  300000.001143  451696.969697  \n",
       "8  500093.477050  4.999999e+05  500000.000401  532575.757576  \n",
       "9  999989.603324  1.000000e+06  999999.996552  613454.545455  "
      ]
     },
     "execution_count": 78,
     "metadata": {},
     "output_type": "execute_result"
    }
   ],
   "source": [
    "df"
   ]
  },
  {
   "cell_type": "code",
   "execution_count": null,
   "metadata": {},
   "outputs": [],
   "source": [
    "#example"
   ]
  }
 ],
 "metadata": {
  "interpreter": {
   "hash": "a29e1fb6683002b636560db254076994f59567f0270ab4cc0d58f0bc21ebc82f"
  },
  "kernelspec": {
   "display_name": "Python 3.10.1 64-bit",
   "language": "python",
   "name": "python3"
  },
  "language_info": {
   "codemirror_mode": {
    "name": "ipython",
    "version": 3
   },
   "file_extension": ".py",
   "mimetype": "text/x-python",
   "name": "python",
   "nbconvert_exporter": "python",
   "pygments_lexer": "ipython3",
   "version": "3.10.1"
  },
  "orig_nbformat": 4
 },
 "nbformat": 4,
 "nbformat_minor": 2
}
